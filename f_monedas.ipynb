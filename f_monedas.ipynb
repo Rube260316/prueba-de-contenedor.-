{
 "cells": [
  {
   "cell_type": "code",
   "execution_count": 1,
   "metadata": {},
   "outputs": [],
   "source": [
    "import numpy as np \n",
    "import pandas as pd "
   ]
  },
  {
   "cell_type": "code",
   "execution_count": 2,
   "metadata": {},
   "outputs": [],
   "source": [
    "def load_data(file):\n",
    "    df = pd.read_csv(file)\n",
    "    df.drop_duplicates(inplace=True)\n",
    "    return df\n",
    "donne = load_data(\"./donne/train.csv\") "
   ]
  },
  {
   "cell_type": "code",
   "execution_count": 3,
   "metadata": {},
   "outputs": [],
   "source": [
    "#FUNCIÓN A: Eliminación de intercuantiles.\n",
    "\n",
    "def delete_outliers(file):\n",
    "    qs_f = file['Age'].quantile([0.25,0.5,0.75]).values\n",
    "    q1_f = qs_f[0]\n",
    "    q2_f = qs_f[1]\n",
    "    q3_f = qs_f[2]\n",
    "    iqr_f = q3_f-q1_f\n",
    "    l_inf_f = q1_f - (1.5 * iqr_f)\n",
    "    l_sup_f = q3_f + (1.5 *iqr_f)\n",
    "    donne_trimmed_f =file.query(\" Age >= @l_inf_f and Age <= @l_sup_f\")\n",
    "    a = file['Age'].shape\n",
    "    b = donne_trimmed_f['Age'].shape\n",
    "    #message = print(f'el tamaño del dataset antes:{a} \\n  el tamaño del data set después: {b}')\n",
    "    return donne_trimmed_f\n"
   ]
  },
  {
   "cell_type": "code",
   "execution_count": null,
   "metadata": {},
   "outputs": [],
   "source": [
    "#FUNCIÓN GENERAL. \n",
    "def filtro_reacomodo(file):\n",
    "    genero = file['Sex'].unique()\n",
    "    resultado_final = pd.DataFrame()\n",
    "    encabezado_agregado = False\n",
    "    # DOCUMENTADO EN LA LIBRETA.\n",
    "    for tipo in genero: #Ciclo C\n",
    "        tabla = file.query('Sex == @tipo')\n",
    "        print('estoy usando esta')\n",
    "        #FUNCIÓN A, eliminación de outliers\n",
    "        tabla_tratada = delete_outliers(tabla)\n",
    "        \n",
    "        #ciclo B: CONCATENAR TABLAS\n",
    "        \n",
    "    \n",
    "        if not encabezado_agregado:\n",
    "            resultado_final = pd.concat([resultado_final, tabla_tratada], axis=0, ignore_index=True)\n",
    "            encabezado_agregado = True\n",
    "        else:\n",
    "            resultado_final = pd.concat([resultado_final, tabla_tratada], axis=0, ignore_index=True)\n",
    "    \n",
    "    return resultado_final.sort_values(by='PassengerId', ascending=True)"
   ]
  }
 ],
 "metadata": {
  "kernelspec": {
   "display_name": "Python 3",
   "language": "python",
   "name": "python3"
  },
  "language_info": {
   "codemirror_mode": {
    "name": "ipython",
    "version": 3
   },
   "file_extension": ".py",
   "mimetype": "text/x-python",
   "name": "python",
   "nbconvert_exporter": "python",
   "pygments_lexer": "ipython3",
   "version": "3.8.10"
  }
 },
 "nbformat": 4,
 "nbformat_minor": 2
}
